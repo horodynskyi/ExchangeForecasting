{
 "cells": [
  {
   "cell_type": "code",
   "execution_count": 30,
   "outputs": [
    {
     "name": "stdout",
     "output_type": "stream",
     "text": [
      "Collecting git+https://github.com/RJT1990/pyflux\n",
      "  Cloning https://github.com/RJT1990/pyflux to c:\\users\\user\\appdata\\local\\temp\\pip-req-build-bukwweyp\n",
      "Requirement already satisfied: numpy in c:\\users\\user\\appdata\\roaming\\jetbrains\\dataspell2021.3\\projects\\workspace\\venv\\lib\\site-packages (from pyflux==0.4.17) (1.19.5)\n",
      "Requirement already satisfied: pandas in c:\\users\\user\\appdata\\roaming\\jetbrains\\dataspell2021.3\\projects\\workspace\\venv\\lib\\site-packages (from pyflux==0.4.17) (1.3.5)\n",
      "Requirement already satisfied: scipy in c:\\users\\user\\appdata\\roaming\\jetbrains\\dataspell2021.3\\projects\\workspace\\venv\\lib\\site-packages (from pyflux==0.4.17) (1.5.4)\n",
      "Requirement already satisfied: numdifftools in c:\\users\\user\\appdata\\roaming\\jetbrains\\dataspell2021.3\\projects\\workspace\\venv\\lib\\site-packages (from pyflux==0.4.17) (0.9.40)\n",
      "Requirement already satisfied: patsy in c:\\users\\user\\appdata\\roaming\\jetbrains\\dataspell2021.3\\projects\\workspace\\venv\\lib\\site-packages (from pyflux==0.4.17) (0.5.2)\n",
      "Requirement already satisfied: statsmodels>=0.6 in c:\\users\\user\\appdata\\roaming\\jetbrains\\dataspell2021.3\\projects\\workspace\\venv\\lib\\site-packages (from numdifftools->pyflux==0.4.17) (0.12.1)\n",
      "Requirement already satisfied: algopy>=0.4 in c:\\users\\user\\appdata\\roaming\\jetbrains\\dataspell2021.3\\projects\\workspace\\venv\\lib\\site-packages (from numdifftools->pyflux==0.4.17) (0.5.7)\n",
      "Requirement already satisfied: pytz>=2017.3 in c:\\users\\user\\appdata\\roaming\\jetbrains\\dataspell2021.3\\projects\\workspace\\venv\\lib\\site-packages (from pandas->pyflux==0.4.17) (2021.3)\n",
      "Requirement already satisfied: python-dateutil>=2.7.3 in c:\\users\\user\\appdata\\roaming\\jetbrains\\dataspell2021.3\\projects\\workspace\\venv\\lib\\site-packages (from pandas->pyflux==0.4.17) (2.8.2)\n",
      "Requirement already satisfied: six in c:\\users\\user\\appdata\\roaming\\jetbrains\\dataspell2021.3\\projects\\workspace\\venv\\lib\\site-packages (from patsy->pyflux==0.4.17) (1.16.0)\n"
     ]
    },
    {
     "name": "stderr",
     "output_type": "stream",
     "text": [
      "  Running command git clone -q https://github.com/RJT1990/pyflux 'C:\\Users\\User\\AppData\\Local\\Temp\\pip-req-build-bukwweyp'\n",
      "WARNING: You are using pip version 21.1.2; however, version 21.3.1 is available.\n",
      "You should consider upgrading via the 'C:\\Users\\User\\AppData\\Roaming\\JetBrains\\DataSpell2021.3\\projects\\workspace\\venv\\Scripts\\python.exe -m pip install --upgrade pip' command.\n"
     ]
    }
   ],
   "source": [
    "!pip install git+https://github.com/RJT1990/pyflux"
   ],
   "metadata": {
    "collapsed": false,
    "pycharm": {
     "name": "#%%\n"
    }
   }
  },
  {
   "cell_type": "code",
   "execution_count": 31,
   "outputs": [],
   "source": [
    "\n",
    "import util\n",
    "import eval\n",
    "import numpy as np\n",
    "import pyflux as pf\n",
    "import matplotlib.pyplot as plt\n",
    "from sktime.utils.plotting import plot_series"
   ],
   "metadata": {
    "collapsed": false,
    "pycharm": {
     "name": "#%%\n"
    }
   }
  },
  {
   "cell_type": "code",
   "execution_count": 32,
   "outputs": [
    {
     "name": "stdout",
     "output_type": "stream",
     "text": [
      "time series shape: (5816, 1)\n"
     ]
    }
   ],
   "source": [
    "p = 1\n",
    "q = 1\n",
    "h_test = 6\n",
    "\n",
    "ts, data = util.load_data(\"EUR-USD.csv\", columnName=\"rate\")"
   ],
   "metadata": {
    "collapsed": false,
    "pycharm": {
     "name": "#%%\n"
    }
   }
  },
  {
   "cell_type": "code",
   "execution_count": 33,
   "outputs": [
    {
     "name": "stdout",
     "output_type": "stream",
     "text": [
      "train shape is (1000, 1)\n",
      "test shape is (14, 1)\n"
     ]
    }
   ],
   "source": [
    "train, test = util.divideTrainTest(data)\n",
    "train = train[:1000]\n",
    "test = test[:14]\n",
    "print(\"train shape is\", train.shape)\n",
    "print(\"test shape is\", test.shape)\n",
    "history = [x[0] for x in train]\n",
    "predictions = []\n",
    "realTestY = []"
   ],
   "metadata": {
    "collapsed": false,
    "pycharm": {
     "name": "#%%\n"
    }
   }
  },
  {
   "cell_type": "code",
   "execution_count": 34,
   "outputs": [
    {
     "name": "stdout",
     "output_type": "stream",
     "text": [
      "t: 1\n",
      "predict: [1.1668179867695778, 1.1617216338303644, 1.1612380853843234, 1.1611922056930113, 1.1611878525695711, 1.1611874395396848]\n",
      "expected: [1.2079 1.2071 1.2175 1.2172 1.2168 1.2111]\n",
      "t: 2\n",
      "predict: [1.1743946606566569, 1.162496402580969, 1.161358685704015, 1.1612498966960887, 1.1612394942414135, 1.1612384995539418]\n",
      "expected: [1.2071 1.2175 1.2172 1.2168 1.2111 1.2047]\n",
      "t: 3\n",
      "predict: [1.1727125241880292, 1.1623877379742442, 1.1613864250515504, 1.1612893162544875, 1.161279898500803, 1.1612789851532264]\n",
      "expected: [1.2175 1.2172 1.2168 1.2111 1.2047 1.2085]\n",
      "t: 4\n",
      "predict: [1.1768948388907214, 1.162892568385956, 1.1614828272247408, 1.1613408952330009, 1.1613266055954181, 1.1613251669222922]\n",
      "expected: [1.2172 1.2168 1.2111 1.2047 1.2085 1.21  ]\n",
      "t: 5\n",
      "predict: [1.176464908096519, 1.1629572700625215, 1.161539721774759, 1.161390958301598, 1.1613753464376932, 1.1613737080631017]\n",
      "expected: [1.2168 1.2111 1.2047 1.2085 1.21   1.2081]\n",
      "t: 6\n",
      "predict: [1.1771222433688708, 1.163143816400474, 1.1616157453077673, 1.161448702101143, 1.161430441541793, 1.1614284453634718]\n",
      "expected: [1.2111 1.2047 1.2085 1.21   1.2081 1.2139]\n",
      "t: 7\n",
      "predict: [1.1754050338203421, 1.1630430325010745, 1.1616552512477232, 1.1614994563438548, 1.1614819665182698, 1.16148000307793]\n",
      "expected: [1.2047 1.2085 1.21   1.2081 1.2139 1.225 ]\n",
      "t: 8\n",
      "predict: [1.1737454532760934, 1.1629107732597705, 1.1616818801622353, 1.1615424964201317, 1.161526687211339, 1.1615248940963108]\n",
      "expected: [1.2085 1.21   1.2081 1.2139 1.225  1.2293]\n"
     ]
    }
   ],
   "source": [
    "for t in range(len(test) - h_test):\n",
    "    model = pf.ARIMA(data=np.array(history), ar=p, ma=q, family=pf.Normal())\n",
    "    model.fit(method=\"MLE\")\n",
    "\n",
    "    output = model.predict(h_test, intervals=False)\n",
    "\n",
    "    yhat = output.values.flatten().tolist()\n",
    "\n",
    "    obs = test[t : t + h_test].flatten()\n",
    "\n",
    "    realTestY.append(obs)\n",
    "    predictions.append(yhat)\n",
    "    history.extend(test[t])\n",
    "    print(\"t:\", t+1)\n",
    "    print(\"predict:\", yhat)\n",
    "    print('expected:', obs)"
   ],
   "metadata": {
    "collapsed": false,
    "pycharm": {
     "name": "#%%\n"
    }
   }
  },
  {
   "cell_type": "code",
   "execution_count": 37,
   "outputs": [
    {
     "data": {
      "text/plain": "[<matplotlib.lines.Line2D at 0x13d9e877bb0>,\n <matplotlib.lines.Line2D at 0x13d9e877c10>,\n <matplotlib.lines.Line2D at 0x13d9e877d30>,\n <matplotlib.lines.Line2D at 0x13d9e877e50>,\n <matplotlib.lines.Line2D at 0x13d9e877f70>,\n <matplotlib.lines.Line2D at 0x13d960410d0>]"
     },
     "execution_count": 37,
     "metadata": {},
     "output_type": "execute_result"
    },
    {
     "data": {
      "text/plain": "<Figure size 432x288 with 1 Axes>",
      "image/png": "[encoded data removed]"
     },
     "metadata": {
      "needs_background": "light"
     },
     "output_type": "display_data"
    }
   ],
   "source": [
    "realTestY = np.array(realTestY).reshape(-1, h_test)\n",
    "predictions = np.array(predictions).reshape(-1, h_test)\n",
    "plt.plot(realTestY,predictions)"
   ],
   "metadata": {
    "collapsed": false,
    "pycharm": {
     "name": "#%%\n"
    }
   }
  },
  {
   "cell_type": "code",
   "execution_count": null,
   "outputs": [],
   "source": [
    "MAE = eval.calcMAE(realTestY, predictions)\n",
    "RMSE = eval.calcRMSE(realTestY, predictions)\n",
    "MAPE = eval.calcSMAPE(realTestY, predictions)\n",
    "print('Test MAE: %.8f' % MAE)\n",
    "print('Test RMSE: %.8f' % RMSE)\n",
    "print('Test SMAPE: %.8f' % MAPE)"
   ],
   "metadata": {
    "collapsed": false,
    "pycharm": {
     "name": "#%%\n"
    }
   }
  }
 ],
 "metadata": {
  "kernelspec": {
   "display_name": "Python 3",
   "language": "python",
   "name": "python3"
  },
  "language_info": {
   "codemirror_mode": {
    "name": "ipython",
    "version": 2
   },
   "file_extension": ".py",
   "mimetype": "text/x-python",
   "name": "python",
   "nbconvert_exporter": "python",
   "pygments_lexer": "ipython2",
   "version": "2.7.6"
  }
 },
 "nbformat": 4,
 "nbformat_minor": 0
}